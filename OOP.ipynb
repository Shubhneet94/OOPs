{
 "cells": [
  {
   "cell_type": "markdown",
   "id": "9f1892aa-e848-4f83-a473-b96768926ad7",
   "metadata": {},
   "source": [
    "# OOPs"
   ]
  },
  {
   "cell_type": "markdown",
   "id": "66bccc36-ab45-4ad5-a54a-762861e75caf",
   "metadata": {},
   "source": [
    "### PRACTICAL ANSWERS"
   ]
  },
  {
   "cell_type": "markdown",
   "id": "2a70186b-5047-43f4-80c6-677e0f8d4d73",
   "metadata": {},
   "source": [
    "#### Q1. Create a parent class Animal with a method speak() that prints a generic message. Create a child class Dog that overrides the speak() method to print \"Bark!\".\n"
   ]
  },
  {
   "cell_type": "code",
   "execution_count": 56,
   "id": "f72b26ab-e0bf-4436-92e5-39e64211ed41",
   "metadata": {},
   "outputs": [],
   "source": [
    "# creating parent class\n",
    "class Animal:\n",
    "    def speak(self):\n",
    "        print(\"Animal makes a sound\")\n",
    "  #creating child class      \n",
    "class Dog (Animal):\n",
    "    def speak(self):\n",
    "        print(\"Bark!\")\n",
    "\n"
   ]
  },
  {
   "cell_type": "code",
   "execution_count": 57,
   "id": "e7e3190d-63bd-4841-b8b2-ebaf4e4e9d11",
   "metadata": {},
   "outputs": [
    {
     "name": "stdout",
     "output_type": "stream",
     "text": [
      "Animal makes a sound\n",
      "Bark!\n"
     ]
    }
   ],
   "source": [
    "#generating output\n",
    "animal=Animal()\n",
    "animal.speak()\n",
    "\n",
    "dog=Dog()\n",
    "dog.speak()"
   ]
  },
  {
   "cell_type": "markdown",
   "id": "066147ca-4ea9-40cb-8e10-d43468003cfd",
   "metadata": {},
   "source": [
    "#### Q2.Write a program to create an abstract class Shape with a method area(). Derive classes Circle and Rectangle from it and implement the area() method in both."
   ]
  },
  {
   "cell_type": "code",
   "execution_count": 59,
   "id": "78efdbd3-d5c5-4c5a-81fd-acf716846091",
   "metadata": {},
   "outputs": [],
   "source": [
    "from abc import ABC, abstractmethod\n",
    "import math\n",
    "#creating class for shape \n",
    "class Shape(ABC):\n",
    "    @abstractmethod #using abstract method\n",
    "    def area(self):\n",
    "        pass\n",
    "#creating class for circle\n",
    "class Circle(Shape):\n",
    "    def __init__(self, radius):\n",
    "        self.radius=radius\n",
    "\n",
    "    def area(self):\n",
    "        return math.pi*self.radius**2\n",
    "\n",
    "class Rectangle(Shape):\n",
    "    def __init__(self,length,width):\n",
    "        self.length=length\n",
    "        self.width=width\n",
    "\n",
    "    def area(self):\n",
    "        return self.length*self.width\n",
    "\n"
   ]
  },
  {
   "cell_type": "code",
   "execution_count": 60,
   "id": "99ca3c6a-f122-4530-8625-01798f897915",
   "metadata": {},
   "outputs": [
    {
     "name": "stdout",
     "output_type": "stream",
     "text": [
      "Area of Circle: 78.54\n",
      "Area of Rectangle: 24\n"
     ]
    }
   ],
   "source": [
    "circle= Circle(5)\n",
    "print(f\"Area of Circle: {circle.area():.2f}\")\n",
    "\n",
    "rectangle = Rectangle(4,6)\n",
    "print(f\"Area of Rectangle: {rectangle.area()}\")\n",
    "#displaying output"
   ]
  },
  {
   "cell_type": "markdown",
   "id": "c4b4563a-1301-4f12-9860-15a26187ac2a",
   "metadata": {},
   "source": [
    "#### Q3.Implement a multi-level inheritance scenario where a class Vehicle has an attribute type. Derive a class Car and further derive a class ElectricCar that adds a battery attribute."
   ]
  },
  {
   "cell_type": "code",
   "execution_count": 15,
   "id": "df64274e-28e6-42a7-8670-bc2c9878ec1d",
   "metadata": {},
   "outputs": [],
   "source": [
    "#Demonstrating multi-level inheritance\n",
    "class Vehicle:\n",
    "    def __init__(self, vehicle_type):\n",
    "        self.vehicle_type=vehicle_type\n",
    "\n",
    "    def show_type(self):\n",
    "        print(f\"Vehicle  Type: {self.vehicle_type}\")\n",
    "        \n",
    "# creating class for car\n",
    "class Car(Vehicle):\n",
    "    def __init__(self, vehicle_type, brand):\n",
    "        super().__init__(vehicle_type)\n",
    "        self.brand= brand\n",
    "\n",
    "    def show_brand(self):\n",
    "        print(f\"Car Brand: {self.brand}\")\n",
    "#creating class for Electric car\n",
    "class ElectricCar(Car):\n",
    "    def __init__(self, vehicle_type, brand, battery_capacity):\n",
    "        super().__init__(vehicle_type,brand)\n",
    "        self.battery_capacity= battery_capacity\n",
    "\n",
    "    def show_battery(self):\n",
    "        print(f\"Battery capacity: {self.battery_capacity} kwh\")\n",
    "\n",
    "\n",
    "        \n",
    "    "
   ]
  },
  {
   "cell_type": "code",
   "execution_count": 61,
   "id": "4cfbdd30-3f4d-4f44-8033-c01f167ca025",
   "metadata": {},
   "outputs": [
    {
     "name": "stdout",
     "output_type": "stream",
     "text": [
      "Vehicle  Type: Four Wheeler\n",
      "Car Brand: Tesla\n",
      "Battery capacity: 75 kwh\n"
     ]
    }
   ],
   "source": [
    "ec= ElectricCar(\"Four Wheeler\", \"Tesla\", 75)\n",
    "ec.show_type()\n",
    "ec.show_brand()\n",
    "ec.show_battery()\n",
    "#displaying output"
   ]
  },
  {
   "cell_type": "markdown",
   "id": "896c0606-254b-4b74-b6d7-c0d68b4c41d2",
   "metadata": {},
   "source": [
    "#### Q4. Demonstrate polymorphism by creating a base class Bird with a method fly(). Create two derived classes Sparrow and Penguin that override the fly() method.\n"
   ]
  },
  {
   "cell_type": "code",
   "execution_count": 62,
   "id": "6f8ae415-5287-4aa7-9e8c-bcf50bceea5e",
   "metadata": {},
   "outputs": [
    {
     "name": "stdout",
     "output_type": "stream",
     "text": [
      "Sparrow flies high in the sky\n",
      "Penguins cannot fly, they swim\n"
     ]
    }
   ],
   "source": [
    "#Demonstrating polymorphism\n",
    "class Bird:\n",
    "    def fly(self):\n",
    "        print(\"Bird is flying\")\n",
    "\n",
    "class Sparrow(Bird):\n",
    "    def fly(self):\n",
    "        print(\"Sparrow flies high in the sky\")\n",
    "\n",
    "class Penguin(Bird):\n",
    "    def fly(self):\n",
    "        print(\"Penguins cannot fly, they swim\")\n",
    "\n",
    "birds = [Sparrow(), Penguin()]\n",
    "\n",
    "for bird in birds:\n",
    "    bird.fly()\n",
    "#displaying output of code"
   ]
  },
  {
   "cell_type": "markdown",
   "id": "7761135a-1372-41d0-9581-ddbb819200c2",
   "metadata": {},
   "source": [
    "#### Q5.Write a program to demonstrate encapsulation by creating a class BankAccount with private attributes balance and methods to deposit, withdraw, and check balance."
   ]
  },
  {
   "cell_type": "code",
   "execution_count": 19,
   "id": "ab49c565-c0c8-4ed2-aa65-31afedbb50ab",
   "metadata": {},
   "outputs": [],
   "source": [
    "# Demonstration of Encapsulation\n",
    "\n",
    "class BankAccount:\n",
    "    def __init__(self, initial_balance):\n",
    "        self.__balance = initial_balance  # Private attribute\n",
    "\n",
    "    def deposit(self, amount):\n",
    "        if amount > 0:\n",
    "            self.__balance += amount\n",
    "            print(f\"Deposited: ₹{amount}\")\n",
    "        else:\n",
    "            print(\"Deposit amount must be positive\")\n",
    "\n",
    "    def withdraw(self, amount):\n",
    "        if 0 < amount <= self.__balance:\n",
    "            self.__balance -= amount\n",
    "            print(f\"Withdrawn: ₹{amount}\")\n",
    "        else:\n",
    "            print(\"Invalid withdrawal amount or insufficient balance\")\n",
    "\n",
    "    def check_balance(self):\n",
    "        print(f\"Current Balance: ₹{self.__balance}\")"
   ]
  },
  {
   "cell_type": "code",
   "execution_count": 20,
   "id": "ea3a5fe0-21c9-4f61-9351-2e34c2e777fb",
   "metadata": {},
   "outputs": [
    {
     "name": "stdout",
     "output_type": "stream",
     "text": [
      "Current Balance: ₹1000\n",
      "Deposited: ₹500\n",
      "Withdrawn: ₹300\n",
      "Current Balance: ₹1200\n"
     ]
    }
   ],
   "source": [
    "# Using the BankAccount class\n",
    "account = BankAccount(1000)\n",
    "account.check_balance()\n",
    "account.deposit(500)\n",
    "account.withdraw(300)\n",
    "account.check_balance()"
   ]
  },
  {
   "cell_type": "markdown",
   "id": "0298e821-6f90-4811-8b05-33baed3d3264",
   "metadata": {},
   "source": [
    "#### Q6. Demonstrate runtime polymorphism using a method play() in a base class Instrument. Derive classes Guitar and Piano that implement their own version of play()."
   ]
  },
  {
   "cell_type": "code",
   "execution_count": 21,
   "id": "7891b727-3a28-48ed-8dd3-c44aa2657c2f",
   "metadata": {},
   "outputs": [
    {
     "name": "stdout",
     "output_type": "stream",
     "text": [
      "Strumming the guitar\n",
      "Playing the piano\n",
      "Playing an instrument\n"
     ]
    }
   ],
   "source": [
    "# Demonstration of Runtime Polymorphism\n",
    "\n",
    "# Base class\n",
    "class Instrument:\n",
    "    def play(self):\n",
    "        print(\"Playing an instrument\")\n",
    "\n",
    "# Derived class\n",
    "class Guitar(Instrument):\n",
    "    def play(self):\n",
    "        print(\"Strumming the guitar\")\n",
    "\n",
    "# Derived class\n",
    "class Piano(Instrument):\n",
    "    def play(self):\n",
    "        print(\"Playing the piano\")\n",
    "\n",
    "# Polymorphism in action\n",
    "instruments = [Guitar(), Piano(), Instrument()]\n",
    "\n",
    "for instrument in instruments:\n",
    "    instrument.play()\n"
   ]
  },
  {
   "cell_type": "markdown",
   "id": "1af6008f-fa03-4556-9874-f8b0594afcd0",
   "metadata": {},
   "source": [
    "#### Q7.Create a class MathOperations with a class method add_numbers() to add two numbers and a static method subtract_numbers() to subtract two numbers."
   ]
  },
  {
   "cell_type": "code",
   "execution_count": 22,
   "id": "3d2bdea7-b053-4754-ba4a-d7c0d2298f8a",
   "metadata": {},
   "outputs": [],
   "source": [
    "# Demonstration of classmethod and staticmethod\n",
    "\n",
    "class MathOperations:\n",
    "    @classmethod\n",
    "    def add_numbers(cls, a, b):\n",
    "        return a + b\n",
    "\n",
    "    @staticmethod\n",
    "    def subtract_numbers(a, b):\n",
    "        return a - b\n",
    "\n"
   ]
  },
  {
   "cell_type": "code",
   "execution_count": 23,
   "id": "2d42fa3d-18ef-467a-8fb7-4ffc313c7a38",
   "metadata": {},
   "outputs": [
    {
     "name": "stdout",
     "output_type": "stream",
     "text": [
      "Addition: 15\n",
      "Subtraction: 5\n"
     ]
    }
   ],
   "source": [
    "# Using the methods\n",
    "print(\"Addition:\", MathOperations.add_numbers(10, 5))    \n",
    "print(\"Subtraction:\", MathOperations.subtract_numbers(10, 5))"
   ]
  },
  {
   "cell_type": "markdown",
   "id": "68f3e8ee-138e-4182-8cbe-523eac3af852",
   "metadata": {},
   "source": [
    "#### Q8.Implement a class Person with a class method to count the total number of persons created."
   ]
  },
  {
   "cell_type": "code",
   "execution_count": 26,
   "id": "ba58016a-d363-4473-b044-d08c24f59c5f",
   "metadata": {},
   "outputs": [],
   "source": [
    "# Class to count number of Person instances\n",
    "\n",
    "class Person:\n",
    "    count = 0  # Class variable to keep track of number of instances\n",
    "\n",
    "    def __init__(self, name):\n",
    "        self.name = name\n",
    "        Person.count += 1\n",
    "\n",
    "    @classmethod\n",
    "    def get_person_count(cls):\n",
    "        return cls.count\n",
    "\n"
   ]
  },
  {
   "cell_type": "code",
   "execution_count": 25,
   "id": "e08fd48a-9814-4214-9ccb-056a7ea6f9d2",
   "metadata": {},
   "outputs": [
    {
     "name": "stdout",
     "output_type": "stream",
     "text": [
      "Total number of persons created: 6\n"
     ]
    }
   ],
   "source": [
    "# Creating Person instances\n",
    "p1 = Person(\"Alice\")\n",
    "p2 = Person(\"Bob\")\n",
    "p3 = Person(\"Charlie\")\n",
    "\n",
    "# Using the class method to get the total count\n",
    "print(\"Total number of persons created:\", Person.get_person_count())"
   ]
  },
  {
   "cell_type": "markdown",
   "id": "bc52a087-e7eb-4ed4-b676-e0a76b2b1738",
   "metadata": {},
   "source": [
    "#### Q9.Write a class Fraction with attributes numerator and denominator. Override the str method to display the fraction as \"numerator/denominator\"."
   ]
  },
  {
   "cell_type": "code",
   "execution_count": 27,
   "id": "f5bce1d2-3ffe-4344-afac-79ed4a52f6ff",
   "metadata": {},
   "outputs": [],
   "source": [
    "# Class representing a Fraction\n",
    "\n",
    "class Fraction:\n",
    "    def __init__(self, numerator, denominator):\n",
    "        self.numerator = numerator\n",
    "        self.denominator = denominator\n",
    "\n",
    "    def __str__(self):\n",
    "        return f\"{self.numerator}/{self.denominator}\"\n",
    "\n"
   ]
  },
  {
   "cell_type": "code",
   "execution_count": 28,
   "id": "ebe58d28-6b23-4d66-ad81-c9eb0f7a205e",
   "metadata": {},
   "outputs": [
    {
     "name": "stdout",
     "output_type": "stream",
     "text": [
      "3/4\n",
      "7/2\n"
     ]
    }
   ],
   "source": [
    "# Creating Fraction instances\n",
    "f1 = Fraction(3, 4)\n",
    "f2 = Fraction(7, 2)\n",
    "\n",
    "# Displaying the fractions\n",
    "print(f1)\n",
    "print(f2)"
   ]
  },
  {
   "cell_type": "markdown",
   "id": "5f114a36-0e74-4904-b6f9-5c69c9cf767b",
   "metadata": {},
   "source": [
    "#### Q10.  Demonstrate operator overloading by creating a class Vector and overriding the add method to add two vectors"
   ]
  },
  {
   "cell_type": "code",
   "execution_count": 29,
   "id": "1a2d298a-412c-49e3-8cac-1a0181dd23c5",
   "metadata": {},
   "outputs": [],
   "source": [
    "# Vector class demonstrating operator overloading\n",
    "\n",
    "class Vector:\n",
    "    def __init__(self, x, y):\n",
    "        self.x = x\n",
    "        self.y = y\n",
    "\n",
    "    def __add__(self, other):\n",
    "        return Vector(self.x + other.x, self.y + other.y)\n",
    "\n",
    "    def __str__(self):\n",
    "        return f\"Vector({self.x}, {self.y})\"\n"
   ]
  },
  {
   "cell_type": "code",
   "execution_count": 30,
   "id": "c20b3a24-3ad2-450a-9ee1-2d7a3380b4df",
   "metadata": {},
   "outputs": [
    {
     "name": "stdout",
     "output_type": "stream",
     "text": [
      "Vector(6, 8)\n"
     ]
    }
   ],
   "source": [
    "# Creating Vector instances\n",
    "v1 = Vector(2, 3)\n",
    "v2 = Vector(4, 5)\n",
    "\n",
    "# Adding vectors using overloaded '+' operator\n",
    "v3 = v1 + v2\n",
    "print(v3)"
   ]
  },
  {
   "cell_type": "markdown",
   "id": "bfea2d7c-8bbf-4b5a-a4fd-020fd486242f",
   "metadata": {},
   "source": [
    "#### Q11. Create a class Person with attributes name and age. Add a method greet() that prints \"Hello, my name is {name} and I am {age} years old.\""
   ]
  },
  {
   "cell_type": "code",
   "execution_count": 31,
   "id": "7ceaded4-48f0-422c-a3b9-d82dad038c14",
   "metadata": {},
   "outputs": [],
   "source": [
    "# Class representing a Person\n",
    "class Person:\n",
    "    def __init__(self, name, age):\n",
    "        self.name = name\n",
    "        self.age = age\n",
    "\n",
    "    def greet(self):\n",
    "        print(f\"Hello, my name is {self.name} and I am {self.age} years old.\")\n"
   ]
  },
  {
   "cell_type": "code",
   "execution_count": 32,
   "id": "4ef9c368-28c6-465d-b066-82fd76297b16",
   "metadata": {},
   "outputs": [
    {
     "name": "stdout",
     "output_type": "stream",
     "text": [
      "Hello, my name is Shubhneet and I am 30 years old.\n"
     ]
    }
   ],
   "source": [
    "# Creating Person instance and calling greet method\n",
    "p1 = Person(\"Shubhneet\", 30)\n",
    "p1.greet()"
   ]
  },
  {
   "cell_type": "markdown",
   "id": "9f71649d-d063-4a0d-9ac4-97c6f687b404",
   "metadata": {},
   "source": [
    "#### Q12.Implement a class Student with attributes name and grades. Create a method average_grade() to compute the average of the grades."
   ]
  },
  {
   "cell_type": "code",
   "execution_count": 33,
   "id": "718e6fed-1c37-4430-a9c6-754bb440b1fa",
   "metadata": {},
   "outputs": [],
   "source": [
    "# Class representing a Student\n",
    "class Student:\n",
    "    def __init__(self, name, grades):\n",
    "        self.name = name\n",
    "        self.grades = grades  # Expecting a list of numeric grades\n",
    "\n",
    "    def average_grade(self):\n",
    "        if self.grades:\n",
    "            return sum(self.grades) / len(self.grades)\n",
    "        return 0"
   ]
  },
  {
   "cell_type": "code",
   "execution_count": 34,
   "id": "efe20901-e0f2-4d2e-8c23-f218efae4d59",
   "metadata": {},
   "outputs": [
    {
     "name": "stdout",
     "output_type": "stream",
     "text": [
      "Average grade for Bob: 84.33\n"
     ]
    }
   ],
   "source": [
    "# Creating a Student instance and computing average grade\n",
    "s1 = Student(\"Bob\", [85, 90, 78])\n",
    "print(f\"Average grade for {s1.name}: {s1.average_grade():.2f}\")"
   ]
  },
  {
   "cell_type": "markdown",
   "id": "fb212471-bf86-4de2-8157-68306fec3782",
   "metadata": {},
   "source": [
    "#### Q13.Create a class Rectangle with methods set_dimensions() to set the dimensions and area() to calculate the area."
   ]
  },
  {
   "cell_type": "code",
   "execution_count": 35,
   "id": "02924993-65d9-4aaf-8254-50f8feae6341",
   "metadata": {},
   "outputs": [],
   "source": [
    "# Class representing a Rectangle\n",
    "class Rectangle:\n",
    "    def set_dimensions(self, length, width):\n",
    "        self.length = length\n",
    "        self.width = width\n",
    "\n",
    "    def area(self):\n",
    "        return self.length * self.width\n"
   ]
  },
  {
   "cell_type": "code",
   "execution_count": 36,
   "id": "2177ba19-ee1d-4007-b5c3-a68346749d5c",
   "metadata": {},
   "outputs": [
    {
     "name": "stdout",
     "output_type": "stream",
     "text": [
      "Area of Rectangle: 15\n"
     ]
    }
   ],
   "source": [
    "# Creating a Rectangle instance and calculating area\n",
    "rect = Rectangle()\n",
    "rect.set_dimensions(5, 3)\n",
    "print(f\"Area of Rectangle: {rect.area()}\") "
   ]
  },
  {
   "cell_type": "markdown",
   "id": "cb780b08-87db-45c1-878b-692e7681408c",
   "metadata": {},
   "source": [
    "#### Q14. Create a class Employee with a method calculate_salary() that computes the salary based on hours worked and hourly rate. Create a derived class Manager that adds a bonus to the salary"
   ]
  },
  {
   "cell_type": "code",
   "execution_count": 38,
   "id": "dc41c661-9ceb-4d7f-aa07-c97d87d78092",
   "metadata": {},
   "outputs": [],
   "source": [
    "# Class representing an Employee\n",
    "class Employee:\n",
    "    def __init__(self, hours_worked, hourly_rate):\n",
    "        self.hours_worked = hours_worked\n",
    "        self.hourly_rate = hourly_rate\n",
    "\n",
    "    def calculate_salary(self):\n",
    "        return self.hours_worked * self.hourly_rate\n",
    "\n",
    "# Derived class Manager that adds a bonus to the salary\n",
    "class Manager(Employee):\n",
    "    def __init__(self, hours_worked, hourly_rate, bonus):\n",
    "        super().__init__(hours_worked, hourly_rate)\n",
    "        self.bonus = bonus\n",
    "\n",
    "    def calculate_salary(self):\n",
    "        base_salary = super().calculate_salary()\n",
    "        return base_salary + self.bonus\n"
   ]
  },
  {
   "cell_type": "code",
   "execution_count": 44,
   "id": "a1fbfb8b-7cf5-4c0e-b0a8-19fd8776a27b",
   "metadata": {},
   "outputs": [
    {
     "name": "stdout",
     "output_type": "stream",
     "text": [
      "Employee Salary: Rs.32000\n",
      "Manager Salary: Rs.80000\n"
     ]
    }
   ],
   "source": [
    "# Testing the classes\n",
    "emp = Employee(40, 800)\n",
    "print(f\"Employee Salary: Rs.{emp.calculate_salary()}\") \n",
    "\n",
    "mgr = Manager(40, 1600, 16000)\n",
    "print(f\"Manager Salary: Rs.{mgr.calculate_salary()}\") "
   ]
  },
  {
   "cell_type": "markdown",
   "id": "9dc01eac-a830-4cfc-9398-31dae4356aad",
   "metadata": {},
   "source": [
    "#### Q15.  Create a class Product with attributes name, price, and quantity. Implement a method total_price() that calculates the total price of the product."
   ]
  },
  {
   "cell_type": "code",
   "execution_count": 45,
   "id": "23f95ea4-f794-49cc-8eb9-f5b920c084a5",
   "metadata": {},
   "outputs": [],
   "source": [
    "# Class representing a Product\n",
    "class Product:\n",
    "    def __init__(self, name, price, quantity):\n",
    "        self.name = name\n",
    "        self.price = price\n",
    "        self.quantity = quantity\n",
    "\n",
    "    def total_price(self):\n",
    "        return self.price * self.quantity\n"
   ]
  },
  {
   "cell_type": "code",
   "execution_count": 47,
   "id": "d3e1ea91-3a16-44bb-b9b8-0b901e2dc686",
   "metadata": {},
   "outputs": [
    {
     "name": "stdout",
     "output_type": "stream",
     "text": [
      "Total price for Notebook: Rs.13500\n"
     ]
    }
   ],
   "source": [
    "# Creating Product instance and calculating total price\n",
    "p1 = Product(\"Notebook\", 4500, 3)\n",
    "print(f\"Total price for {p1.name}: Rs.{p1.total_price()}\")"
   ]
  },
  {
   "cell_type": "markdown",
   "id": "5a0e5f95-deb8-4962-9e44-41a758cb6b8c",
   "metadata": {},
   "source": [
    "#### Q16. Create a class Animal with an abstract method sound(). Create two derived classes Cow and Sheep that implement the sound() method."
   ]
  },
  {
   "cell_type": "code",
   "execution_count": 48,
   "id": "bedecf2a-6ee1-496d-8fd0-a183c53873c3",
   "metadata": {},
   "outputs": [],
   "source": [
    "from abc import ABC, abstractmethod\n",
    "\n",
    "# Abstract class Animal\n",
    "class Animal(ABC):\n",
    "    @abstractmethod\n",
    "    def sound(self):\n",
    "        pass\n",
    "\n",
    "# Derived class Cow\n",
    "class Cow(Animal):\n",
    "    def sound(self):\n",
    "        return \"Moo\"\n",
    "\n",
    "# Derived class Sheep\n",
    "class Sheep(Animal):\n",
    "    def sound(self):\n",
    "        return \"Baa\""
   ]
  },
  {
   "cell_type": "code",
   "execution_count": 50,
   "id": "622b3e64-e892-43dc-8b28-25e22103878d",
   "metadata": {},
   "outputs": [
    {
     "name": "stdout",
     "output_type": "stream",
     "text": [
      "Cow sound: Moo\n",
      "Sheep sound: Baa\n"
     ]
    }
   ],
   "source": [
    "# Creating instances and displaying sounds\n",
    "cow = Cow()\n",
    "sheep = Sheep()\n",
    "print(f\"Cow sound: {cow.sound()}\")\n",
    "print(f\"Sheep sound: {sheep.sound()}\")"
   ]
  },
  {
   "cell_type": "markdown",
   "id": "1801cb5f-cb22-42b8-b931-a6d6846743bc",
   "metadata": {},
   "source": [
    "#### Q17. Create a class Book with attributes title, author, and year_published. Add a method get_book_info() that returns a formatted string with the book's details."
   ]
  },
  {
   "cell_type": "code",
   "execution_count": 51,
   "id": "bdcfb639-3751-4840-b8fe-5675763774e7",
   "metadata": {},
   "outputs": [],
   "source": [
    "# Class representing a Book\n",
    "class Book:\n",
    "    def __init__(self, title, author, year_published):\n",
    "        self.title = title\n",
    "        self.author = author\n",
    "        self.year_published = year_published\n",
    "\n",
    "    def get_book_info(self):\n",
    "        return f\"'{self.title}' by {self.author}, published in {self.year_published}\""
   ]
  },
  {
   "cell_type": "code",
   "execution_count": 52,
   "id": "80f59192-aead-4c83-948a-49373df3a24f",
   "metadata": {},
   "outputs": [
    {
     "name": "stdout",
     "output_type": "stream",
     "text": [
      "'1984' by George Orwell, published in 1949\n"
     ]
    }
   ],
   "source": [
    "# Creating a Book instance and displaying book info\n",
    "book = Book(\"1984\", \"George Orwell\", 1949)\n",
    "print(book.get_book_info()) "
   ]
  },
  {
   "cell_type": "markdown",
   "id": "898469af-8502-4eca-9642-2952cdfbe3e7",
   "metadata": {},
   "source": [
    "#### Q18.Create a class House with attributes address and price. Create a derived class Mansion that adds an attribute number_of_rooms."
   ]
  },
  {
   "cell_type": "code",
   "execution_count": 53,
   "id": "2c5acda8-0f65-4407-8249-50eb34932fe1",
   "metadata": {},
   "outputs": [],
   "source": [
    "# Class representing a House\n",
    "class House:\n",
    "    def __init__(self, address, price):\n",
    "        self.address = address\n",
    "        self.price = price\n",
    "\n",
    "# Derived class Mansion with additional attribute\n",
    "class Mansion(House):\n",
    "    def __init__(self, address, price, number_of_rooms):\n",
    "        super().__init__(address, price)\n",
    "        self.number_of_rooms = number_of_rooms"
   ]
  },
  {
   "cell_type": "code",
   "execution_count": 54,
   "id": "f0c36c14-85aa-40cb-a4b1-ca8c7d886f6c",
   "metadata": {},
   "outputs": [
    {
     "name": "stdout",
     "output_type": "stream",
     "text": [
      "Mansion located at 123 Luxury Lane, priced at $5000000, with 10 rooms.\n"
     ]
    }
   ],
   "source": [
    "# Creating a Mansion instance and displaying its attributes\n",
    "mansion = Mansion(\"123 Luxury Lane\", 5000000, 10)\n",
    "print(f\"Mansion located at {mansion.address}, priced at ${mansion.price}, with {mansion.number_of_rooms} rooms.\")"
   ]
  },
  {
   "cell_type": "markdown",
   "id": "889e70b4-8ad5-4cb0-8a00-cc28cac36b71",
   "metadata": {},
   "source": [
    "\n",
    " "
   ]
  },
  {
   "cell_type": "markdown",
   "id": "cdaf58c6-3234-4edb-8017-9fba9c9fb240",
   "metadata": {},
   "source": [
    "### THEORY ANSWERS"
   ]
  },
  {
   "cell_type": "markdown",
   "id": "c6540b78-15ba-4328-ab71-808ebccd079b",
   "metadata": {},
   "source": [
    "#### Q1. What is Object-Oriented Programming (OOP)?"
   ]
  },
  {
   "cell_type": "markdown",
   "id": "dabe369a-32a7-486a-9051-c545105fe8af",
   "metadata": {},
   "source": [
    "- Object-Oriented Programming (OOP) is a programming paradigm based on the concept of “Objects”, which are instances of class. It is designed to model real\u0002world entities and their interactions, making code more modular, reusable, and easier to maintain."
   ]
  },
  {
   "cell_type": "markdown",
   "id": "f69364f7-fbb4-4bf9-8fc9-44c100279c2e",
   "metadata": {},
   "source": [
    "#### Q2. What is a class in OOP?"
   ]
  },
  {
   "cell_type": "markdown",
   "id": "138cef9a-30e9-49ba-96cf-db454f94a580",
   "metadata": {},
   "source": [
    "- In Object-Oriented Programming (OOP) a class is a blueprint or template used to create objects. It defines a set of attributes (variables) and methods (functions) that the created objects will have."
   ]
  },
  {
   "cell_type": "markdown",
   "id": "ae09ee08-4726-41a3-ba37-7803420130ff",
   "metadata": {},
   "source": [
    "#### Q3. What is an object in OOP?"
   ]
  },
  {
   "cell_type": "markdown",
   "id": "58828a26-e95f-4aab-bacd-403502775481",
   "metadata": {},
   "source": [
    "- In OOP an object is a concrete instance of class. It represents a real-world entity \n",
    "that has state (data) and behavior (function or methods).\n",
    "Key characteristics of objects:\n",
    "1. State (Attributes)\n",
    "2. Behavior (Methods)\n",
    "3. Identity"
   ]
  },
  {
   "cell_type": "markdown",
   "id": "cb2f1c70-7399-4434-9b39-25e2275da0d6",
   "metadata": {},
   "source": [
    "#### Q4. What is the difference between abstraction and encapsulation?"
   ]
  },
  {
   "cell_type": "markdown",
   "id": "dac5bf14-fbe2-43fb-b077-ce4bfa028bf6",
   "metadata": {},
   "source": [
    "- The difference between abstraction and encapsulation in OOP are:\n",
    "\n",
    "Abstraction: Abstraction is the process of hiding complex implementation details and showing only the essential features of an object.\n",
    "\n",
    "Purpose: To simplify code and focus on what an object does rather than how it does it.\n",
    "    \n",
    "How it works:\n",
    " - It hides unnecessary internal logic from the user.\n",
    " - Achieved using abstract classes or interfaces (in some language) or by defining methods that the user can use without knowing the internal code\n",
    "\n",
    "Encapsulation: Encapsulation is the process of binding data and methods that operate on that data within a single unit (class) and restricting direct access to some of the Object's components.\n",
    "\n",
    "Purpose: To protect data from unauthorized access and ensure controlled interaction.\n",
    "\n",
    "How it works:\n",
    " - Achieved by using access modifiers like private (--) in python.\n",
    " - You access or modify data through getter and setter methods."
   ]
  },
  {
   "cell_type": "markdown",
   "id": "decbff36-ff8f-402d-ae19-e816b51c4f20",
   "metadata": {},
   "source": [
    "#### Q5. What are dunder methods in Python?"
   ]
  },
  {
   "cell_type": "markdown",
   "id": "f465af36-1aa4-44ba-92ef-9c77841093b7",
   "metadata": {},
   "source": [
    "- Dunder methods in python (also called magic methods or special methods) are \n",
    "special functions that begin and end with double underscores (__method__). The \n",
    "term “dunder” stands for “double underscore”.\n",
    "These methods allow to define the behavior of objects for built-in operations such \n",
    "as printing, arithmetic, comparison, iteration, and object creation.\n",
    "For example: __init__ (), __str__ (), __repr__ (), __add__ ().etc"
   ]
  },
  {
   "cell_type": "markdown",
   "id": "d8cf73c6-c9d9-4d48-a216-f05ade82ccba",
   "metadata": {},
   "source": [
    "#### Q6. Explain the concept of inheritance in OOP."
   ]
  },
  {
   "cell_type": "markdown",
   "id": "ba398db0-cedb-4b8c-b427-cd8a3bde2d55",
   "metadata": {},
   "source": [
    "- Inheritance in OOP is a fundamental concept in OOP that allows a class (called \n",
    "child or subclass) to inherit properties and behaviors (attributes and methods) from \n",
    "another class (called parent or superclass).\n",
    "Purpose of Inheritance:\n",
    "  - To promote code reusability.\n",
    "  - To establish a hierarchical relationship between classes.\n",
    "  - To allow a subclass to extend or customize the functionality of its parent class.\n",
    "Type of Inheritance:\n",
    "1. Single Inheritance – One child inherits from one parent \n",
    "2. Multiple Inheritance – One child inherits from multiple parents.\n",
    "3. Multilevel Inheritance – A class inherits from a class which itself is a child of \n",
    "another class.\n",
    "4. Hierarchical Inheritance- Multiple classes inherit from the same parent.\n",
    "5. Hybrid Inheritance- A combination of two or more types above"
   ]
  },
  {
   "cell_type": "markdown",
   "id": "1915e128-31c0-4661-8f59-34fc9f3413e5",
   "metadata": {},
   "source": [
    "#### Q7. What is polymorphism in OOP?"
   ]
  },
  {
   "cell_type": "markdown",
   "id": "76038113-b102-40f5-9f8c-9082cb647f89",
   "metadata": {},
   "source": [
    "- Polymorphism is a core concept in OOP that means “many forms”. It allows objects \n",
    "of different classes to be treated through the same interface, enabling a single \n",
    "function, method, or operator to behave differently depending on the object it is \n",
    "acting upon.\n",
    "Type of Polymorphism:\n",
    "1. Compile-time polymorphism (also known as method overloading)\n",
    "2. Run-time Polymorphism (also known as method overloading)"
   ]
  },
  {
   "cell_type": "markdown",
   "id": "003e9d80-417d-49c0-ab59-a4921bb5e503",
   "metadata": {},
   "source": [
    "#### Q8. How is encapsulation achieved in Python?"
   ]
  },
  {
   "cell_type": "markdown",
   "id": "27e7fc42-8489-43f1-b2a5-1488b347e048",
   "metadata": {},
   "source": [
    "- Encapsulation is the concept of building data (attributes) and the methods \n",
    "(functions) that operate on that data into a single unit (class) and restricting direct \n",
    "access to some of the object’s components to protect data integrity.\n",
    "How Encapsulation is achieved in python:\n",
    "1. Using access modifiers:\n",
    "Python uses naming conversations to indicate the intended level of access:\n",
    "     - Public (self.name) accessible from anywhere \n",
    "     - Protected (self._name) Meant to be accessed within the class and \n",
    "subclasses (not enforced strictly)\n",
    "     - Private (self.__name) Name managing used to make it harder to access \n",
    "from outside the class.\n",
    "      \n",
    " 2. Using Getter and Setter Methods: These methods allow controlled access to private attribute.\n",
    "    \n",
    "     - Getter: method to access (read) a private variable \n",
    "     - Setter: Method to modify (write) a private variable safely, often with checks\n"
   ]
  },
  {
   "cell_type": "markdown",
   "id": "d499a84e-aad0-4d77-8c2a-ceb0f67322de",
   "metadata": {},
   "source": [
    "#### Q9. What is a constructor in Python? "
   ]
  },
  {
   "cell_type": "markdown",
   "id": "833d7b1f-ae74-4a33-8252-e5338cf5652a",
   "metadata": {},
   "source": [
    "- A constructor in python is a special method used to initialize a newly created object \n",
    "of a class. It sets the initial state of the object by assigning values to its attributes.\n",
    "Purpose of Constructor:\n",
    "     - To automatically execute code when an object is instantiated\n",
    "     - To initialize attributes with default or gives values.\n",
    "     - To set up the object’s state immediately upon creation.\n",
    "Types of constructors in Python:\n",
    "     - Default constructor: Takes only self as a parameter\n",
    "     - Parameterized Constructor: Takes additional arguments to set custom values"
   ]
  },
  {
   "cell_type": "markdown",
   "id": "3acc641f-0caf-4b7e-a451-9b61f96c2645",
   "metadata": {},
   "source": [
    "#### Q10. What are class and static methods in Python?"
   ]
  },
  {
   "cell_type": "markdown",
   "id": "064fa453-4780-40d6-b477-78b12e016819",
   "metadata": {},
   "source": [
    "- Python supports different types of methods in a class: instance methods, class  methods, and static methods. Here, we focus on class methods and static \n",
    "methods.\n",
    "\n",
    "1. Class Method: A class is a method that is bound to the class, not the object \n",
    "instance. It can access and modify the class state using the cls parameters.\n",
    "     - Takes cls (class itself) as the first argument instead of self.\n",
    "     - Useful for defining factory methods or methods that operate on the class.\n",
    "     - Can access or modify class variable (shared across all objects).\n",
    "\n",
    "2. Static Method: A static method is a method that does not access the class or \n",
    "instance. It behaves like a regular function but belongs to the class’s name \n",
    "space.\n",
    "     - Takes no self or cls as the first argument.\n",
    "     - Cannot access or modify instance or class variables.\n",
    "     - Used for utility functions related to the class but not dependent on class or instance state."
   ]
  },
  {
   "cell_type": "markdown",
   "id": "05bb2daf-8a9e-4b2b-a3bb-e9ca64ef68af",
   "metadata": {},
   "source": [
    "#### Q11. What is method overloading in Python ?"
   ]
  },
  {
   "cell_type": "markdown",
   "id": "6bc27475-fad2-4cb9-8978-61f468e54b9a",
   "metadata": {},
   "source": [
    "- Method overloading refers to the ability to define multiple methods with the same \n",
    "name but different parameters (type, number, or order), allowing the method to \n",
    "behave differently based on the arguments passed.\n",
    "Python does not support method overloading in the traditional sense because \n",
    "functions/ methods are dynamically typed and flexible in accepting parameters.\n",
    "Instead, method overloading can be simulated using:\n",
    "    - Default parameters\n",
    "    - Variable-length arguments.\n",
    "    - Conditional logic inside the method"
   ]
  },
  {
   "cell_type": "markdown",
   "id": "cea0c08b-c902-4734-b54e-d783c31c8569",
   "metadata": {},
   "source": [
    "#### Q12. What is method overriding in OOP ?"
   ]
  },
  {
   "cell_type": "markdown",
   "id": "eb644dd5-e357-42ff-9842-c1d03eeed46f",
   "metadata": {},
   "source": [
    "- Method overriding is a feature in OOP that allows a subclass (child class) to provide \n",
    "a specific implementation of a method that is already in its superclass (parent \n",
    "class).\n",
    "\n",
    "  - To customize or extend the behavior of a method inherited from the parent class.\n",
    "  - To allow a subclass to provide a more specific implementation suited to its role"
   ]
  },
  {
   "cell_type": "markdown",
   "id": "9465a911-8833-4dc6-9ed5-091b1c6d7b24",
   "metadata": {},
   "source": [
    "#### Q13. What is a property decorator in Python?"
   ]
  },
  {
   "cell_type": "markdown",
   "id": "b6c52da8-b09a-4eba-a626-fe81c31089b3",
   "metadata": {},
   "source": [
    "- The @property decorator in python is used to define a method in a class that \n",
    "behaves like an attribute. It allows you to access a method as if it were a variable, \n",
    "\n",
    "##### Purpose:\n",
    "  - To create read-only or controlled-access attributes.\n",
    "  - To encapsulation internal data with getter, setter and deleter methods.\n",
    "  - To avoid breaking external code when switching from public attributes to \n",
    "methods"
   ]
  },
  {
   "cell_type": "markdown",
   "id": "e1188cac-ff33-42f4-a87d-25ce8644957a",
   "metadata": {},
   "source": [
    "#### Q14.Why is polymorphism important in OOP?"
   ]
  },
  {
   "cell_type": "markdown",
   "id": "f6d0a58b-7ea6-4a29-bc9a-fc7c295281f7",
   "metadata": {},
   "source": [
    "- Polymorphism meaning “many forms” is a fundamental concept in OOP that allows \n",
    "objects of different class to be treated through a common interface, enabling \n",
    "methods to behave differently based on the object’s class.\n",
    "\n",
    "Polymorphism is important:\n",
    "\n",
    "  1. Code Reusability\n",
    "  2. Simplifies Code Maintenance\n",
    "  3. Supports Dynamics Method Binding (Run-time Polymorphism)\n",
    "  4. Enhances Readability and Structure"
   ]
  },
  {
   "cell_type": "markdown",
   "id": "4891e64a-f576-4b9a-bc93-01962a2c8d41",
   "metadata": {},
   "source": [
    "#### Q15. What is an abstract class in Python?"
   ]
  },
  {
   "cell_type": "markdown",
   "id": "ea2ee2a5-ac6b-461a-a8eb-6f891de3fefb",
   "metadata": {},
   "source": [
    "- An abstract class in python is a class that cannot be instantiated directly and is \n",
    "meant to be inherited by other classes. It serves as a blueprint for other classes, \n",
    "forcing them to implement certain methods.\n",
    "    - To define a common interface for a group of related classes. \n",
    "    - To ensure that subclasses implement specific methods.\n",
    "    - To provide partial implementation that subclasses can build upon."
   ]
  },
  {
   "cell_type": "markdown",
   "id": "b24fcd40-7e05-483c-977c-bb9a9dcba543",
   "metadata": {},
   "source": [
    "#### Q16. What are the advantages of OOP?"
   ]
  },
  {
   "cell_type": "markdown",
   "id": "f251a44d-1f8c-4cf5-a144-949105d3d956",
   "metadata": {},
   "source": [
    "- These are advantages of OOP:\n",
    "\n",
    "    - Modularity: code is divided into classes and objects, making it easier to manage and understand.\n",
    "    - Reusability: Inheritance allows reuse of code across multiple classes, reducing redundancy.\n",
    "    - Encapsulation: Data and methods are bundled together, hiding internal details and protecting data.\n",
    "    - Polymorphism: Enables one function or interface to work with different object types, increasing flexibility.\n",
    "    - Abstraction: Hides complex implementation details and shows only essential features to the user.\n",
    "    - Maintainability: Easier to debug, modify, and scale large codebases due to organized structure"
   ]
  },
  {
   "cell_type": "markdown",
   "id": "36b6cfb1-e691-41f0-926d-d53d5af379e7",
   "metadata": {},
   "source": [
    "#### Q17. What is the difference between a class variable and an instance variable?"
   ]
  },
  {
   "cell_type": "markdown",
   "id": "f39b4c5d-1fda-44f8-b3ff-9ca1a0536bbd",
   "metadata": {},
   "source": [
    "- Difference between class variable and Instance variable in python are:\n",
    "\n",
    "Class Variable: \n",
    "\n",
    "     - Belongs to the class, not to any specific object (shared all instances)\n",
    "     - Define outside any method, typically at the top within the class.\n",
    "     - Shared across all objects of the class.\n",
    "     - Changes made to the class variable affect all instance (unless overridden in a specific object).\n",
    "     - Accessed using either the class name or the instance name.\n",
    "\n",
    "Instance Variable:\n",
    "\n",
    "     - Belong to a specific object/instance of the class.\n",
    "     - Defined inside the __init__ () method using self.variable_name.\n",
    "     - Eace h object maintains its own copy of instance variables.\n",
    "     - Changes made to instance variables effect only that specific object.\n",
    "     - Accessed using the instance name only."
   ]
  },
  {
   "cell_type": "markdown",
   "id": "0bca52e9-be1c-4bbe-a972-bed2cb2b925f",
   "metadata": {},
   "source": [
    "#### Q18. What is multiple inheritance in Python?"
   ]
  },
  {
   "cell_type": "markdown",
   "id": "e2689d38-5b34-4d9a-b07c-5a673765fc73",
   "metadata": {},
   "source": [
    "- Multiple Inheritance is a feature in python where a class can inherit from more than \n",
    "one parent class. This allows a subclass to access the attributes and methods of \n",
    "multiple classes, combining their functionality.\n",
    "    - A child class can inherit from two or more parent classes.\n",
    "    - Python supports multiple inheritance natively.\n",
    "    - Useful when you want to reuse code from different classes into a single class.\n",
    "    - Handled using Method Resolution Order (MRO) to avoid ambiguity when methods have the same name"
   ]
  },
  {
   "cell_type": "markdown",
   "id": "14ba830e-4bd5-440a-9936-dd8535d85574",
   "metadata": {},
   "source": [
    "#### Q19. Explain the purpose of ‘’__str__’ and ‘__repr__’ ‘methods in Python."
   ]
  },
  {
   "cell_type": "markdown",
   "id": "25a99fdc-4475-4cb1-947d-09d98169f8c5",
   "metadata": {},
   "source": [
    "- __str__ () method: \n",
    "     - Purpose: Returns a user-friendly string representation of the object.\n",
    "     - Used by: print (), str ()\n",
    "     - Goal: For readable output intended for end users.\n",
    "                                         \n",
    "Example:\n",
    " \n"
   ]
  },
  {
   "cell_type": "code",
   "execution_count": 34,
   "id": "2767624e-b158-493d-b926-0e6791807f0b",
   "metadata": {},
   "outputs": [],
   "source": [
    "class Book:\n",
    "    def __init__(self, title):  # To create constructor\n",
    "        self.title = title\n",
    "    def __str__(self):\n",
    "        return f\"Book Title: {self.title}\"  "
   ]
  },
  {
   "cell_type": "code",
   "execution_count": 32,
   "id": "ff655b08-003a-46d3-8a9f-e5a7784d9b09",
   "metadata": {},
   "outputs": [
    {
     "name": "stdout",
     "output_type": "stream",
     "text": [
      "Book Title: Python Basics\n"
     ]
    }
   ],
   "source": [
    "b = Book(\"Python Basics\") \n",
    "print(b)"
   ]
  },
  {
   "cell_type": "markdown",
   "id": "b24d350c-d830-4b6b-84f9-2c6d0cb3a8d5",
   "metadata": {},
   "source": [
    "-__repr__ () method:\n",
    "\n",
    "    - Purpose: Returns a developer- friendly string representation of the object\n",
    "    - Used by: repr(), interactive shell, or when __str__ () is missing.\n",
    "    - Goal: For debugging and development, often shows a string that can be used to recreate the object\n",
    "\n",
    "Example:"
   ]
  },
  {
   "cell_type": "code",
   "execution_count": 39,
   "id": "c357956b-49c5-47c3-87dd-6327f5a2b3b9",
   "metadata": {},
   "outputs": [],
   "source": [
    "class Book: \n",
    "    def __init__(self, title): \n",
    "        self.title = title\n",
    "    def __repr__(self):\n",
    "        return f\"Book('{self.title}')\""
   ]
  },
  {
   "cell_type": "code",
   "execution_count": 40,
   "id": "5de97968-0326-4d89-8fc3-33c12e38de89",
   "metadata": {},
   "outputs": [
    {
     "name": "stdout",
     "output_type": "stream",
     "text": [
      "Book('Python Basics')\n"
     ]
    }
   ],
   "source": [
    "b = Book (\"Python Basics\") \n",
    "print(repr(b))"
   ]
  },
  {
   "cell_type": "markdown",
   "id": "643323bd-4754-4096-b2d4-0f6d17d3a68c",
   "metadata": {},
   "source": [
    "#### Q20. What is the significance of the ‘super ()’ function in Python?"
   ]
  },
  {
   "cell_type": "markdown",
   "id": "3ad3c213-403a-4d1a-ae0f-19313f84c313",
   "metadata": {},
   "source": [
    "- The super () function in python is used to call methods from a parent (or superclass) in a \n",
    "child (or subclass). It is especially useful in inheritance when you want to extend or \n",
    "customize the behavior of inherited methods without completely rewriting them.\n",
    "     - Access Parent Class Methods: Calls a method from the immediate superclass, allowing you to reuse code.\n",
    "     - Avoid code Duplication: Helps avoid rewriting the logic already present in the parent class.\n",
    "     - Support Multiple Inheritance: Works with Method Resolution Order (MRO) to properly resolve which method to call next in a multiple inheritance chain."
   ]
  },
  {
   "cell_type": "markdown",
   "id": "dd07f4e1-f712-434b-b875-479061d7b05a",
   "metadata": {},
   "source": [
    "#### Q21. What is the significance of the __del__ method in Python?"
   ]
  },
  {
   "cell_type": "markdown",
   "id": "a20dfe95-f56e-480b-9600-ae96e8256ccd",
   "metadata": {},
   "source": [
    "- The __del__ method in python is a special (dunder) method called a destructor. It is \n",
    "automatically invoked when an object is about to be destroyed (i.e., garbage \n",
    "collected).\n",
    "     - Cleanup Before Deletion: Used to release resource like files, database connections, or network sockets before the object is destroyed.\n",
    "     - Notification: Can be to log or print a message when an object is deleted."
   ]
  },
  {
   "cell_type": "markdown",
   "id": "7f669ecc-42ba-4141-a6f1-420c8384fa3a",
   "metadata": {},
   "source": [
    "#### Q22.What is the difference between @staticmethod and @classmethod in Python?"
   ]
  },
  {
   "cell_type": "markdown",
   "id": "3c5882c7-0be7-4dcb-81b6-97cc8bb99486",
   "metadata": {},
   "source": [
    "- @Staticmethod: \n",
    "    - Decorates a method that does not take self or cls as its first argument.\n",
    "    - Can not access or modify class or instance data.\n",
    "    - Behaves like a regular function but is defined inside a class for organizational purposes.\n",
    "    - Used for utility methods related to the class but independent of class/object state.\n",
    "    - Called using ClassName.method() or instance.method()."
   ]
  },
  {
   "cell_type": "markdown",
   "id": "852c1992-199e-4865-a543-0d547fa6cd63",
   "metadata": {},
   "source": [
    "- @Classmethod:\n",
    "     - Decorates a method that takes cls (the class) as its first argument.\n",
    "     - Can access and modify class variables and class state.\n",
    "     - Used for factory methods and operations that depend on the class itself.\n",
    "     - Works with inheritance – it always refers to the class that calls it.\n",
    "     - Called using ClassName.method() or instance.method()."
   ]
  },
  {
   "cell_type": "markdown",
   "id": "ebd8b3e5-c973-4d9f-b5ba-b5f2d03da9e1",
   "metadata": {},
   "source": [
    "#### Q23. How does polymorphism work in Python with inheritance?"
   ]
  },
  {
   "cell_type": "markdown",
   "id": "e88a5bcd-9b95-4f63-a387-28737d0634f4",
   "metadata": {},
   "source": [
    "- Polymorphism in python allows different classes to define methods with the same \n",
    "name, but potentially different behavior. When combined with inheritance, it \n",
    "enables objects of different subclasses to be treated as instances of their parent\n",
    "class, while still executing their own overridden methods.\n",
    "How It Works:\n",
    "    - A parent class defines a method.\n",
    "    - One or more child classes override that method with their own specific \n",
    "implementation.\n",
    "    - A function or loop can call that method without knowing the exact class of the \n",
    "object.\n",
    "    - Python dynamically determines the actual method to call at runtime (this is \n",
    "called dispatch)."
   ]
  },
  {
   "cell_type": "markdown",
   "id": "62f35066-0275-443b-b787-19f8a987536f",
   "metadata": {},
   "source": [
    "#### Q24. What is method chaining in Python OOP?"
   ]
  },
  {
   "cell_type": "markdown",
   "id": "38b5b543-996f-43e8-bc9e-3ffbd1349356",
   "metadata": {},
   "source": [
    "- Method chaining is a programming technique in which multiple methods are called \n",
    "on the same object in a single line, one after the other. This is made possible by \n",
    "having each method return self, i.e., the object itself.\n",
    "    - Method chaining allows calling multiple methods on the same object in one line.\n",
    "    - Each method returns self to enable chaining.\n",
    "    - Improves code readability, conciseness, and fluency.\n",
    "    - Common in API’s, data pipelines, and configuration builders."
   ]
  },
  {
   "cell_type": "markdown",
   "id": "ed808f6a-2f6d-43a1-9a5e-85f59cf449ce",
   "metadata": {},
   "source": [
    "#### Q25. What is the purpose of the __call__ method in Python?"
   ]
  },
  {
   "cell_type": "markdown",
   "id": "9c2bf808-ed21-4668-9fba-eafddfa736d8",
   "metadata": {},
   "source": [
    "- The __call__ () method in python allows an instance of a class to be called like a \n",
    "function. When you define __call__ () in a class, you can use the object as if it were a \n",
    "function, and it will execute the logic inside __call__ ().\n",
    "    - To make objects behave like functions.\n",
    "    - To enable function-like syntax with custom behavior.\n",
    "    - Commonly used in decorators, caching, logging, or custom control flows."
   ]
  },
  {
   "cell_type": "code",
   "execution_count": null,
   "id": "5dc9a87f-7a6f-493a-97d8-a9abdb3f3c47",
   "metadata": {},
   "outputs": [],
   "source": []
  }
 ],
 "metadata": {
  "kernelspec": {
   "display_name": "Python [conda env:base] *",
   "language": "python",
   "name": "conda-base-py"
  },
  "language_info": {
   "codemirror_mode": {
    "name": "ipython",
    "version": 3
   },
   "file_extension": ".py",
   "mimetype": "text/x-python",
   "name": "python",
   "nbconvert_exporter": "python",
   "pygments_lexer": "ipython3",
   "version": "3.12.7"
  }
 },
 "nbformat": 4,
 "nbformat_minor": 5
}
