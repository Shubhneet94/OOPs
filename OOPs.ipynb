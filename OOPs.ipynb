{
 "cells": [
  {
   "cell_type": "markdown",
   "id": "9f1892aa-e848-4f83-a473-b96768926ad7",
   "metadata": {},
   "source": [
    "# OOPs"
   ]
  },
  {
   "cell_type": "markdown",
   "id": "66bccc36-ab45-4ad5-a54a-762861e75caf",
   "metadata": {},
   "source": [
    "#### Q1. Create a parent class Animal with a method speak() that prints a generic message. Create a child class Dog that overrides the speak() method to print \"Bark!\"."
   ]
  },
  {
   "cell_type": "code",
   "execution_count": 5,
   "id": "b2788223-6af0-48c9-b903-937151ce5a07",
   "metadata": {},
   "outputs": [],
   "source": [
    "class Animal:\n",
    "    def speak(self):\n",
    "        print(\"Animal makes a sound\")\n",
    "        \n",
    "class Dog (Animal):\n",
    "    def speak(self):\n",
    "        print(\"Bark!\")\n",
    "\n"
   ]
  },
  {
   "cell_type": "code",
   "execution_count": 6,
   "id": "e7e3190d-63bd-4841-b8b2-ebaf4e4e9d11",
   "metadata": {},
   "outputs": [
    {
     "name": "stdout",
     "output_type": "stream",
     "text": [
      "Animal makes a sound\n",
      "Bark!\n"
     ]
    }
   ],
   "source": [
    "animal=Animal()\n",
    "animal.speak()\n",
    "\n",
    "dog=Dog()\n",
    "dog.speak()"
   ]
  },
  {
   "cell_type": "markdown",
   "id": "066147ca-4ea9-40cb-8e10-d43468003cfd",
   "metadata": {},
   "source": [
    "#### Q2.Write a program to create an abstract class Shape with a method area(). Derive classes Circle and Rectangle from it and implement the area() method in both."
   ]
  },
  {
   "cell_type": "code",
   "execution_count": 11,
   "id": "78efdbd3-d5c5-4c5a-81fd-acf716846091",
   "metadata": {},
   "outputs": [],
   "source": [
    "from abc import ABC, abstractmethod\n",
    "import math\n",
    "\n",
    "class Shape(ABC):\n",
    "    @abstractmethod\n",
    "    def area(self):\n",
    "        pass\n",
    "\n",
    "class Circle(Shape):\n",
    "    def __init__(self, radius):\n",
    "        self.radius=radius\n",
    "\n",
    "    def area(self):\n",
    "        return math.pi*self.radius**2\n",
    "\n",
    "class Rectangle(Shape):\n",
    "    def __init__(self,length,width):\n",
    "        self.length=length\n",
    "        self.width=width\n",
    "\n",
    "    def area(self):\n",
    "        return self.length*self.width\n",
    "\n"
   ]
  },
  {
   "cell_type": "code",
   "execution_count": 12,
   "id": "99ca3c6a-f122-4530-8625-01798f897915",
   "metadata": {},
   "outputs": [
    {
     "name": "stdout",
     "output_type": "stream",
     "text": [
      "Area of Circle: 78.54\n",
      "Area of Rectangle: 24\n"
     ]
    }
   ],
   "source": [
    "circle= Circle(5)\n",
    "print(f\"Area of Circle: {circle.area():.2f}\")\n",
    "\n",
    "rectangle = Rectangle(4,6)\n",
    "print(f\"Area of Rectangle: {rectangle.area()}\")"
   ]
  },
  {
   "cell_type": "markdown",
   "id": "c4b4563a-1301-4f12-9860-15a26187ac2a",
   "metadata": {},
   "source": [
    "#### Q3.Implement a multi-level inheritance scenario where a class Vehicle has an attribute type. Derive a class Car and further derive a class ElectricCar that adds a battery attribute."
   ]
  },
  {
   "cell_type": "code",
   "execution_count": 15,
   "id": "df64274e-28e6-42a7-8670-bc2c9878ec1d",
   "metadata": {},
   "outputs": [],
   "source": [
    "class Vehicle:\n",
    "    def __init__(self, vehicle_type):\n",
    "        self.vehicle_type=vehicle_type\n",
    "\n",
    "    def show_type(self):\n",
    "        print(f\"Vehicle  Type: {self.vehicle_type}\")\n",
    "\n",
    "class Car(Vehicle):\n",
    "    def __init__(self, vehicle_type, brand):\n",
    "        super().__init__(vehicle_type)\n",
    "        self.brand= brand\n",
    "\n",
    "    def show_brand(self):\n",
    "        print(f\"Car Brand: {self.brand}\")\n",
    "\n",
    "class ElectricCar(Car):\n",
    "    def __init__(self, vehicle_type, brand, battery_capacity):\n",
    "        super().__init__(vehicle_type,brand)\n",
    "        self.battery_capacity= battery_capacity\n",
    "\n",
    "    def show_battery(self):\n",
    "        print(f\"Battery capacity: {self.battery_capacity} kwh\")\n",
    "\n",
    "        \n",
    "    "
   ]
  },
  {
   "cell_type": "code",
   "execution_count": 16,
   "id": "4cfbdd30-3f4d-4f44-8033-c01f167ca025",
   "metadata": {},
   "outputs": [
    {
     "name": "stdout",
     "output_type": "stream",
     "text": [
      "Vehicle  Type: Four Wheeler\n",
      "Car Brand: Tesla\n",
      "Battery capacity: 75 kwh\n"
     ]
    }
   ],
   "source": [
    "ec= ElectricCar(\"Four Wheeler\", \"Tesla\", 75)\n",
    "ec.show_type()\n",
    "ec.show_brand()\n",
    "ec.show_battery()"
   ]
  },
  {
   "cell_type": "markdown",
   "id": "896c0606-254b-4b74-b6d7-c0d68b4c41d2",
   "metadata": {},
   "source": [
    "#### Q4. Demonstrate polymorphism by creating a base class Bird with a method fly(). Create two derived classes Sparrow and Penguin that override the fly() method.\n"
   ]
  },
  {
   "cell_type": "code",
   "execution_count": 18,
   "id": "6f8ae415-5287-4aa7-9e8c-bcf50bceea5e",
   "metadata": {},
   "outputs": [
    {
     "name": "stdout",
     "output_type": "stream",
     "text": [
      "Sparrow flies high in the sky\n",
      "Penguins cannot fly, they swim\n"
     ]
    }
   ],
   "source": [
    "class Bird:\n",
    "    def fly(self):\n",
    "        print(\"Bird is flying\")\n",
    "\n",
    "class Sparrow(Bird):\n",
    "    def fly(self):\n",
    "        print(\"Sparrow flies high in the sky\")\n",
    "\n",
    "class Penguin(Bird):\n",
    "    def fly(self):\n",
    "        print(\"Penguins cannot fly, they swim\")\n",
    "\n",
    "birds = [Sparrow(), Penguin()]\n",
    "\n",
    "for bird in birds:\n",
    "    bird.fly()"
   ]
  },
  {
   "cell_type": "markdown",
   "id": "7761135a-1372-41d0-9581-ddbb819200c2",
   "metadata": {},
   "source": [
    "#### Q5.Write a program to demonstrate encapsulation by creating a class BankAccount with private attributes balance and methods to deposit, withdraw, and check balance."
   ]
  },
  {
   "cell_type": "code",
   "execution_count": 19,
   "id": "ab49c565-c0c8-4ed2-aa65-31afedbb50ab",
   "metadata": {},
   "outputs": [],
   "source": [
    "# Demonstration of Encapsulation\n",
    "\n",
    "class BankAccount:\n",
    "    def __init__(self, initial_balance):\n",
    "        self.__balance = initial_balance  # Private attribute\n",
    "\n",
    "    def deposit(self, amount):\n",
    "        if amount > 0:\n",
    "            self.__balance += amount\n",
    "            print(f\"Deposited: ₹{amount}\")\n",
    "        else:\n",
    "            print(\"Deposit amount must be positive\")\n",
    "\n",
    "    def withdraw(self, amount):\n",
    "        if 0 < amount <= self.__balance:\n",
    "            self.__balance -= amount\n",
    "            print(f\"Withdrawn: ₹{amount}\")\n",
    "        else:\n",
    "            print(\"Invalid withdrawal amount or insufficient balance\")\n",
    "\n",
    "    def check_balance(self):\n",
    "        print(f\"Current Balance: ₹{self.__balance}\")"
   ]
  },
  {
   "cell_type": "code",
   "execution_count": 20,
   "id": "ea3a5fe0-21c9-4f61-9351-2e34c2e777fb",
   "metadata": {},
   "outputs": [
    {
     "name": "stdout",
     "output_type": "stream",
     "text": [
      "Current Balance: ₹1000\n",
      "Deposited: ₹500\n",
      "Withdrawn: ₹300\n",
      "Current Balance: ₹1200\n"
     ]
    }
   ],
   "source": [
    "# Using the BankAccount class\n",
    "account = BankAccount(1000)\n",
    "account.check_balance()\n",
    "account.deposit(500)\n",
    "account.withdraw(300)\n",
    "account.check_balance()"
   ]
  },
  {
   "cell_type": "markdown",
   "id": "0298e821-6f90-4811-8b05-33baed3d3264",
   "metadata": {},
   "source": [
    "#### Q6. Demonstrate runtime polymorphism using a method play() in a base class Instrument. Derive classes Guitar and Piano that implement their own version of play()."
   ]
  },
  {
   "cell_type": "code",
   "execution_count": 21,
   "id": "7891b727-3a28-48ed-8dd3-c44aa2657c2f",
   "metadata": {},
   "outputs": [
    {
     "name": "stdout",
     "output_type": "stream",
     "text": [
      "Strumming the guitar\n",
      "Playing the piano\n",
      "Playing an instrument\n"
     ]
    }
   ],
   "source": [
    "# Demonstration of Runtime Polymorphism\n",
    "\n",
    "# Base class\n",
    "class Instrument:\n",
    "    def play(self):\n",
    "        print(\"Playing an instrument\")\n",
    "\n",
    "# Derived class\n",
    "class Guitar(Instrument):\n",
    "    def play(self):\n",
    "        print(\"Strumming the guitar\")\n",
    "\n",
    "# Derived class\n",
    "class Piano(Instrument):\n",
    "    def play(self):\n",
    "        print(\"Playing the piano\")\n",
    "\n",
    "# Polymorphism in action\n",
    "instruments = [Guitar(), Piano(), Instrument()]\n",
    "\n",
    "for instrument in instruments:\n",
    "    instrument.play()\n"
   ]
  },
  {
   "cell_type": "markdown",
   "id": "1af6008f-fa03-4556-9874-f8b0594afcd0",
   "metadata": {},
   "source": [
    "#### Q7.Create a class MathOperations with a class method add_numbers() to add two numbers and a static method subtract_numbers() to subtract two numbers."
   ]
  },
  {
   "cell_type": "code",
   "execution_count": 22,
   "id": "3d2bdea7-b053-4754-ba4a-d7c0d2298f8a",
   "metadata": {},
   "outputs": [],
   "source": [
    "# Demonstration of classmethod and staticmethod\n",
    "\n",
    "class MathOperations:\n",
    "    @classmethod\n",
    "    def add_numbers(cls, a, b):\n",
    "        return a + b\n",
    "\n",
    "    @staticmethod\n",
    "    def subtract_numbers(a, b):\n",
    "        return a - b\n",
    "\n"
   ]
  },
  {
   "cell_type": "code",
   "execution_count": 23,
   "id": "2d42fa3d-18ef-467a-8fb7-4ffc313c7a38",
   "metadata": {},
   "outputs": [
    {
     "name": "stdout",
     "output_type": "stream",
     "text": [
      "Addition: 15\n",
      "Subtraction: 5\n"
     ]
    }
   ],
   "source": [
    "# Using the methods\n",
    "print(\"Addition:\", MathOperations.add_numbers(10, 5))    \n",
    "print(\"Subtraction:\", MathOperations.subtract_numbers(10, 5))"
   ]
  },
  {
   "cell_type": "markdown",
   "id": "68f3e8ee-138e-4182-8cbe-523eac3af852",
   "metadata": {},
   "source": [
    "#### Q8.Implement a class Person with a class method to count the total number of persons created."
   ]
  },
  {
   "cell_type": "code",
   "execution_count": 26,
   "id": "ba58016a-d363-4473-b044-d08c24f59c5f",
   "metadata": {},
   "outputs": [],
   "source": [
    "# Class to count number of Person instances\n",
    "\n",
    "class Person:\n",
    "    count = 0  # Class variable to keep track of number of instances\n",
    "\n",
    "    def __init__(self, name):\n",
    "        self.name = name\n",
    "        Person.count += 1\n",
    "\n",
    "    @classmethod\n",
    "    def get_person_count(cls):\n",
    "        return cls.count\n",
    "\n"
   ]
  },
  {
   "cell_type": "code",
   "execution_count": 25,
   "id": "e08fd48a-9814-4214-9ccb-056a7ea6f9d2",
   "metadata": {},
   "outputs": [
    {
     "name": "stdout",
     "output_type": "stream",
     "text": [
      "Total number of persons created: 6\n"
     ]
    }
   ],
   "source": [
    "# Creating Person instances\n",
    "p1 = Person(\"Alice\")\n",
    "p2 = Person(\"Bob\")\n",
    "p3 = Person(\"Charlie\")\n",
    "\n",
    "# Using the class method to get the total count\n",
    "print(\"Total number of persons created:\", Person.get_person_count())"
   ]
  },
  {
   "cell_type": "markdown",
   "id": "bc52a087-e7eb-4ed4-b676-e0a76b2b1738",
   "metadata": {},
   "source": [
    "#### Q9.Write a class Fraction with attributes numerator and denominator. Override the str method to display the fraction as \"numerator/denominator\"."
   ]
  },
  {
   "cell_type": "code",
   "execution_count": 27,
   "id": "f5bce1d2-3ffe-4344-afac-79ed4a52f6ff",
   "metadata": {},
   "outputs": [],
   "source": [
    "# Class representing a Fraction\n",
    "\n",
    "class Fraction:\n",
    "    def __init__(self, numerator, denominator):\n",
    "        self.numerator = numerator\n",
    "        self.denominator = denominator\n",
    "\n",
    "    def __str__(self):\n",
    "        return f\"{self.numerator}/{self.denominator}\"\n",
    "\n"
   ]
  },
  {
   "cell_type": "code",
   "execution_count": 28,
   "id": "ebe58d28-6b23-4d66-ad81-c9eb0f7a205e",
   "metadata": {},
   "outputs": [
    {
     "name": "stdout",
     "output_type": "stream",
     "text": [
      "3/4\n",
      "7/2\n"
     ]
    }
   ],
   "source": [
    "# Creating Fraction instances\n",
    "f1 = Fraction(3, 4)\n",
    "f2 = Fraction(7, 2)\n",
    "\n",
    "# Displaying the fractions\n",
    "print(f1)\n",
    "print(f2)"
   ]
  },
  {
   "cell_type": "markdown",
   "id": "5f114a36-0e74-4904-b6f9-5c69c9cf767b",
   "metadata": {},
   "source": [
    "#### Q10.  Demonstrate operator overloading by creating a class Vector and overriding the add method to add two vectors"
   ]
  },
  {
   "cell_type": "code",
   "execution_count": 29,
   "id": "1a2d298a-412c-49e3-8cac-1a0181dd23c5",
   "metadata": {},
   "outputs": [],
   "source": [
    "# Vector class demonstrating operator overloading\n",
    "\n",
    "class Vector:\n",
    "    def __init__(self, x, y):\n",
    "        self.x = x\n",
    "        self.y = y\n",
    "\n",
    "    def __add__(self, other):\n",
    "        return Vector(self.x + other.x, self.y + other.y)\n",
    "\n",
    "    def __str__(self):\n",
    "        return f\"Vector({self.x}, {self.y})\"\n"
   ]
  },
  {
   "cell_type": "code",
   "execution_count": 30,
   "id": "c20b3a24-3ad2-450a-9ee1-2d7a3380b4df",
   "metadata": {},
   "outputs": [
    {
     "name": "stdout",
     "output_type": "stream",
     "text": [
      "Vector(6, 8)\n"
     ]
    }
   ],
   "source": [
    "# Creating Vector instances\n",
    "v1 = Vector(2, 3)\n",
    "v2 = Vector(4, 5)\n",
    "\n",
    "# Adding vectors using overloaded '+' operator\n",
    "v3 = v1 + v2\n",
    "print(v3)"
   ]
  },
  {
   "cell_type": "markdown",
   "id": "bfea2d7c-8bbf-4b5a-a4fd-020fd486242f",
   "metadata": {},
   "source": [
    "#### Q11. Create a class Person with attributes name and age. Add a method greet() that prints \"Hello, my name is {name} and I am {age} years old.\""
   ]
  },
  {
   "cell_type": "code",
   "execution_count": 31,
   "id": "7ceaded4-48f0-422c-a3b9-d82dad038c14",
   "metadata": {},
   "outputs": [],
   "source": [
    "# Class representing a Person\n",
    "class Person:\n",
    "    def __init__(self, name, age):\n",
    "        self.name = name\n",
    "        self.age = age\n",
    "\n",
    "    def greet(self):\n",
    "        print(f\"Hello, my name is {self.name} and I am {self.age} years old.\")\n"
   ]
  },
  {
   "cell_type": "code",
   "execution_count": 32,
   "id": "4ef9c368-28c6-465d-b066-82fd76297b16",
   "metadata": {},
   "outputs": [
    {
     "name": "stdout",
     "output_type": "stream",
     "text": [
      "Hello, my name is Shubhneet and I am 30 years old.\n"
     ]
    }
   ],
   "source": [
    "# Creating Person instance and calling greet method\n",
    "p1 = Person(\"Shubhneet\", 30)\n",
    "p1.greet()"
   ]
  },
  {
   "cell_type": "markdown",
   "id": "9f71649d-d063-4a0d-9ac4-97c6f687b404",
   "metadata": {},
   "source": [
    "#### Q12.Implement a class Student with attributes name and grades. Create a method average_grade() to compute the average of the grades."
   ]
  },
  {
   "cell_type": "code",
   "execution_count": 33,
   "id": "718e6fed-1c37-4430-a9c6-754bb440b1fa",
   "metadata": {},
   "outputs": [],
   "source": [
    "# Class representing a Student\n",
    "class Student:\n",
    "    def __init__(self, name, grades):\n",
    "        self.name = name\n",
    "        self.grades = grades  # Expecting a list of numeric grades\n",
    "\n",
    "    def average_grade(self):\n",
    "        if self.grades:\n",
    "            return sum(self.grades) / len(self.grades)\n",
    "        return 0"
   ]
  },
  {
   "cell_type": "code",
   "execution_count": 34,
   "id": "efe20901-e0f2-4d2e-8c23-f218efae4d59",
   "metadata": {},
   "outputs": [
    {
     "name": "stdout",
     "output_type": "stream",
     "text": [
      "Average grade for Bob: 84.33\n"
     ]
    }
   ],
   "source": [
    "# Creating a Student instance and computing average grade\n",
    "s1 = Student(\"Bob\", [85, 90, 78])\n",
    "print(f\"Average grade for {s1.name}: {s1.average_grade():.2f}\")"
   ]
  },
  {
   "cell_type": "markdown",
   "id": "fb212471-bf86-4de2-8157-68306fec3782",
   "metadata": {},
   "source": [
    "#### Q13.Create a class Rectangle with methods set_dimensions() to set the dimensions and area() to calculate the area."
   ]
  },
  {
   "cell_type": "code",
   "execution_count": 35,
   "id": "02924993-65d9-4aaf-8254-50f8feae6341",
   "metadata": {},
   "outputs": [],
   "source": [
    "# Class representing a Rectangle\n",
    "class Rectangle:\n",
    "    def set_dimensions(self, length, width):\n",
    "        self.length = length\n",
    "        self.width = width\n",
    "\n",
    "    def area(self):\n",
    "        return self.length * self.width\n"
   ]
  },
  {
   "cell_type": "code",
   "execution_count": 36,
   "id": "2177ba19-ee1d-4007-b5c3-a68346749d5c",
   "metadata": {},
   "outputs": [
    {
     "name": "stdout",
     "output_type": "stream",
     "text": [
      "Area of Rectangle: 15\n"
     ]
    }
   ],
   "source": [
    "# Creating a Rectangle instance and calculating area\n",
    "rect = Rectangle()\n",
    "rect.set_dimensions(5, 3)\n",
    "print(f\"Area of Rectangle: {rect.area()}\") "
   ]
  },
  {
   "cell_type": "markdown",
   "id": "cb780b08-87db-45c1-878b-692e7681408c",
   "metadata": {},
   "source": [
    "#### Q14. Create a class Employee with a method calculate_salary() that computes the salary based on hours worked and hourly rate. Create a derived class Manager that adds a bonus to the salary"
   ]
  },
  {
   "cell_type": "code",
   "execution_count": 38,
   "id": "dc41c661-9ceb-4d7f-aa07-c97d87d78092",
   "metadata": {},
   "outputs": [],
   "source": [
    "# Class representing an Employee\n",
    "class Employee:\n",
    "    def __init__(self, hours_worked, hourly_rate):\n",
    "        self.hours_worked = hours_worked\n",
    "        self.hourly_rate = hourly_rate\n",
    "\n",
    "    def calculate_salary(self):\n",
    "        return self.hours_worked * self.hourly_rate\n",
    "\n",
    "# Derived class Manager that adds a bonus to the salary\n",
    "class Manager(Employee):\n",
    "    def __init__(self, hours_worked, hourly_rate, bonus):\n",
    "        super().__init__(hours_worked, hourly_rate)\n",
    "        self.bonus = bonus\n",
    "\n",
    "    def calculate_salary(self):\n",
    "        base_salary = super().calculate_salary()\n",
    "        return base_salary + self.bonus\n"
   ]
  },
  {
   "cell_type": "code",
   "execution_count": 44,
   "id": "a1fbfb8b-7cf5-4c0e-b0a8-19fd8776a27b",
   "metadata": {},
   "outputs": [
    {
     "name": "stdout",
     "output_type": "stream",
     "text": [
      "Employee Salary: Rs.32000\n",
      "Manager Salary: Rs.80000\n"
     ]
    }
   ],
   "source": [
    "# Testing the classes\n",
    "emp = Employee(40, 800)\n",
    "print(f\"Employee Salary: Rs.{emp.calculate_salary()}\") \n",
    "\n",
    "mgr = Manager(40, 1600, 16000)\n",
    "print(f\"Manager Salary: Rs.{mgr.calculate_salary()}\") "
   ]
  },
  {
   "cell_type": "markdown",
   "id": "9dc01eac-a830-4cfc-9398-31dae4356aad",
   "metadata": {},
   "source": [
    "#### Q15.  Create a class Product with attributes name, price, and quantity. Implement a method total_price() that calculates the total price of the product."
   ]
  },
  {
   "cell_type": "code",
   "execution_count": 45,
   "id": "23f95ea4-f794-49cc-8eb9-f5b920c084a5",
   "metadata": {},
   "outputs": [],
   "source": [
    "# Class representing a Product\n",
    "class Product:\n",
    "    def __init__(self, name, price, quantity):\n",
    "        self.name = name\n",
    "        self.price = price\n",
    "        self.quantity = quantity\n",
    "\n",
    "    def total_price(self):\n",
    "        return self.price * self.quantity\n"
   ]
  },
  {
   "cell_type": "code",
   "execution_count": 47,
   "id": "d3e1ea91-3a16-44bb-b9b8-0b901e2dc686",
   "metadata": {},
   "outputs": [
    {
     "name": "stdout",
     "output_type": "stream",
     "text": [
      "Total price for Notebook: Rs.13500\n"
     ]
    }
   ],
   "source": [
    "# Creating Product instance and calculating total price\n",
    "p1 = Product(\"Notebook\", 4500, 3)\n",
    "print(f\"Total price for {p1.name}: Rs.{p1.total_price()}\")"
   ]
  },
  {
   "cell_type": "markdown",
   "id": "5a0e5f95-deb8-4962-9e44-41a758cb6b8c",
   "metadata": {},
   "source": [
    "#### Q16. Create a class Animal with an abstract method sound(). Create two derived classes Cow and Sheep that implement the sound() method."
   ]
  },
  {
   "cell_type": "code",
   "execution_count": 48,
   "id": "bedecf2a-6ee1-496d-8fd0-a183c53873c3",
   "metadata": {},
   "outputs": [],
   "source": [
    "from abc import ABC, abstractmethod\n",
    "\n",
    "# Abstract class Animal\n",
    "class Animal(ABC):\n",
    "    @abstractmethod\n",
    "    def sound(self):\n",
    "        pass\n",
    "\n",
    "# Derived class Cow\n",
    "class Cow(Animal):\n",
    "    def sound(self):\n",
    "        return \"Moo\"\n",
    "\n",
    "# Derived class Sheep\n",
    "class Sheep(Animal):\n",
    "    def sound(self):\n",
    "        return \"Baa\""
   ]
  },
  {
   "cell_type": "code",
   "execution_count": 50,
   "id": "622b3e64-e892-43dc-8b28-25e22103878d",
   "metadata": {},
   "outputs": [
    {
     "name": "stdout",
     "output_type": "stream",
     "text": [
      "Cow sound: Moo\n",
      "Sheep sound: Baa\n"
     ]
    }
   ],
   "source": [
    "# Creating instances and displaying sounds\n",
    "cow = Cow()\n",
    "sheep = Sheep()\n",
    "print(f\"Cow sound: {cow.sound()}\")\n",
    "print(f\"Sheep sound: {sheep.sound()}\")"
   ]
  },
  {
   "cell_type": "markdown",
   "id": "1801cb5f-cb22-42b8-b931-a6d6846743bc",
   "metadata": {},
   "source": [
    "#### Q17. Create a class Book with attributes title, author, and year_published. Add a method get_book_info() that returns a formatted string with the book's details."
   ]
  },
  {
   "cell_type": "code",
   "execution_count": 51,
   "id": "bdcfb639-3751-4840-b8fe-5675763774e7",
   "metadata": {},
   "outputs": [],
   "source": [
    "# Class representing a Book\n",
    "class Book:\n",
    "    def __init__(self, title, author, year_published):\n",
    "        self.title = title\n",
    "        self.author = author\n",
    "        self.year_published = year_published\n",
    "\n",
    "    def get_book_info(self):\n",
    "        return f\"'{self.title}' by {self.author}, published in {self.year_published}\""
   ]
  },
  {
   "cell_type": "code",
   "execution_count": 52,
   "id": "80f59192-aead-4c83-948a-49373df3a24f",
   "metadata": {},
   "outputs": [
    {
     "name": "stdout",
     "output_type": "stream",
     "text": [
      "'1984' by George Orwell, published in 1949\n"
     ]
    }
   ],
   "source": [
    "# Creating a Book instance and displaying book info\n",
    "book = Book(\"1984\", \"George Orwell\", 1949)\n",
    "print(book.get_book_info()) "
   ]
  },
  {
   "cell_type": "markdown",
   "id": "898469af-8502-4eca-9642-2952cdfbe3e7",
   "metadata": {},
   "source": [
    "#### Q18.Create a class House with attributes address and price. Create a derived class Mansion that adds an attribute number_of_rooms."
   ]
  },
  {
   "cell_type": "code",
   "execution_count": 53,
   "id": "2c5acda8-0f65-4407-8249-50eb34932fe1",
   "metadata": {},
   "outputs": [],
   "source": [
    "# Class representing a House\n",
    "class House:\n",
    "    def __init__(self, address, price):\n",
    "        self.address = address\n",
    "        self.price = price\n",
    "\n",
    "# Derived class Mansion with additional attribute\n",
    "class Mansion(House):\n",
    "    def __init__(self, address, price, number_of_rooms):\n",
    "        super().__init__(address, price)\n",
    "        self.number_of_rooms = number_of_rooms"
   ]
  },
  {
   "cell_type": "code",
   "execution_count": 54,
   "id": "f0c36c14-85aa-40cb-a4b1-ca8c7d886f6c",
   "metadata": {},
   "outputs": [
    {
     "name": "stdout",
     "output_type": "stream",
     "text": [
      "Mansion located at 123 Luxury Lane, priced at $5000000, with 10 rooms.\n"
     ]
    }
   ],
   "source": [
    "# Creating a Mansion instance and displaying its attributes\n",
    "mansion = Mansion(\"123 Luxury Lane\", 5000000, 10)\n",
    "print(f\"Mansion located at {mansion.address}, priced at ${mansion.price}, with {mansion.number_of_rooms} rooms.\")"
   ]
  },
  {
   "cell_type": "code",
   "execution_count": null,
   "id": "a7dc7136-6dd0-46a7-b46a-89b94a61b3b7",
   "metadata": {},
   "outputs": [],
   "source": []
  }
 ],
 "metadata": {
  "kernelspec": {
   "display_name": "Python [conda env:base] *",
   "language": "python",
   "name": "conda-base-py"
  },
  "language_info": {
   "codemirror_mode": {
    "name": "ipython",
    "version": 3
   },
   "file_extension": ".py",
   "mimetype": "text/x-python",
   "name": "python",
   "nbconvert_exporter": "python",
   "pygments_lexer": "ipython3",
   "version": "3.12.7"
  }
 },
 "nbformat": 4,
 "nbformat_minor": 5
}
